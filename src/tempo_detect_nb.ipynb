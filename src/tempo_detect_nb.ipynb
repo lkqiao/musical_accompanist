{
 "cells": [
  {
   "cell_type": "markdown",
   "id": "3afef203",
   "metadata": {},
   "source": [
    "## **Tempo Detection for Accompaniment Recordings**\n",
    "This notebook is designed to test various tempo detection methods on accompaniment recordings and in real-time.\n",
    "\n",
    "### Approaches For Tempo Detection\n",
    "1. Window + lowpass filter each frame of the signal to 20-45 Hz (corresponding to common tempo BPMs) and look at the max frequency component. Maybe do this on the onset envelope if it works better. This is the simplest approach but may not be the most effective. \n",
    "2. Similar to decoding an on-off keyed message (i.e. 1 if start of a beat, 0 if not start of a beat). This just involves computing the power of the frequency spectrum of each frame (\"bit\") and comparing with a threshold. This approach is likely combined with other approaches. \n",
    "3. Try wavelet transform instead of stft for onset detection (find power of frequency spectrum of each frame and compute spectral flux). What if each basis function was a wavelet + sin wave?\n",
    "\n",
    "### Additional Ideas\n",
    "1. Maybe have the user clap a few times before to establiish a tempo to \"calibrate\" the alogrithm. Not sure how useful this is in detecting the tempo of the recording, but it helps with syncing at the start.\n",
    "2. Support different modes:\n",
    "    - Solo mode: recording always follows the musician. For general practice.\n",
    "    - Orchestral mode: musicians can set accompanist to match a conductor (timings are determined from a video of the conductor). For orchestral musician practice."
   ]
  },
  {
   "cell_type": "code",
   "execution_count": 2,
   "id": "101675da",
   "metadata": {},
   "outputs": [],
   "source": [
    "import numpy as np\n",
    "import matplotlib.pyplot as plt\n",
    "import librosa\n",
    "import librosa.display\n",
    "import soundfile as sf\n",
    "import os"
   ]
  },
  {
   "cell_type": "code",
   "execution_count": 3,
   "id": "7a392a39",
   "metadata": {},
   "outputs": [
    {
     "name": "stdout",
     "output_type": "stream",
     "text": [
      "hello world\n"
     ]
    }
   ],
   "source": [
    "print('hello world')"
   ]
  }
 ],
 "metadata": {
  "kernelspec": {
   "display_name": ".venv",
   "language": "python",
   "name": "python3"
  },
  "language_info": {
   "codemirror_mode": {
    "name": "ipython",
    "version": 3
   },
   "file_extension": ".py",
   "mimetype": "text/x-python",
   "name": "python",
   "nbconvert_exporter": "python",
   "pygments_lexer": "ipython3",
   "version": "3.13.2"
  }
 },
 "nbformat": 4,
 "nbformat_minor": 5
}
