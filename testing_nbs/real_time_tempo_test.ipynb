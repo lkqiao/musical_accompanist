{
 "cells": [
  {
   "cell_type": "markdown",
   "id": "4a466dad",
   "metadata": {},
   "source": [
    "<div style=\"font-size:2em; font-weight:bold; text-align:center\">Real-Time Tempo Detection</div>\n",
    "<br>\n",
    "<div style=\"text-align:center\">This notebook is for testing real-time tempo detection algorithms.</div>"
   ]
  },
  {
   "cell_type": "code",
   "execution_count": 1,
   "id": "0ba65247",
   "metadata": {},
   "outputs": [],
   "source": [
    "import numpy as np\n",
    "import matplotlib.pyplot as plt\n",
    "import librosa\n",
    "import soundfile as sf\n",
    "import os"
   ]
  }
 ],
 "metadata": {
  "kernelspec": {
   "display_name": ".venv (3.13.2)",
   "language": "python",
   "name": "python3"
  },
  "language_info": {
   "codemirror_mode": {
    "name": "ipython",
    "version": 3
   },
   "file_extension": ".py",
   "mimetype": "text/x-python",
   "name": "python",
   "nbconvert_exporter": "python",
   "pygments_lexer": "ipython3",
   "version": "3.13.2"
  }
 },
 "nbformat": 4,
 "nbformat_minor": 5
}
